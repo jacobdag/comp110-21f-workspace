{
 "cells": [
  {
   "cell_type": "markdown",
   "metadata": {},
   "source": [
    "# PJ01\n",
    "\n",
    "## Hypothesis: The average degree of difficulty for Comp 110 based on student ratings will be between a 5 and 6. "
   ]
  },
  {
   "cell_type": "markdown",
   "metadata": {},
   "source": [
    "(Autoreloads imported modules)"
   ]
  },
  {
   "cell_type": "code",
   "execution_count": 1,
   "metadata": {},
   "outputs": [],
   "source": [
    "%reload_ext autoreload\n",
    "%autoreload 2"
   ]
  },
  {
   "cell_type": "markdown",
   "metadata": {},
   "source": [
    "Step 1: Convert csv data into a column-oriented data."
   ]
  },
  {
   "cell_type": "code",
   "execution_count": 2,
   "metadata": {},
   "outputs": [],
   "source": [
    "from data_utils import read_csv_rows, columnar\n",
    "\n",
    "data_rows: list[dict[str, str]] = read_csv_rows('../../data/survey.csv')\n",
    "columns: dict[str, list[str]] = columnar(data_rows)"
   ]
  },
  {
   "cell_type": "markdown",
   "metadata": {},
   "source": [
    "Step 2: Select the entire 'difficulty' rating column. I will test it by returning the first few rows."
   ]
  },
  {
   "cell_type": "code",
   "execution_count": 3,
   "metadata": {},
   "outputs": [
    {
     "data": {
      "text/plain": [
       "{'difficulty': ['5', '3', '5', '6', '4', '5', '6', '5', '5', '7']}"
      ]
     },
     "execution_count": 3,
     "metadata": {},
     "output_type": "execute_result"
    }
   ],
   "source": [
    "from data_utils import head, select\n",
    "section: dict[str, list[str]] = select(columns, [\"difficulty\"])\n",
    "nums = head(section, 10)\n",
    "nums"
   ]
  },
  {
   "cell_type": "markdown",
   "metadata": {},
   "source": [
    "Step 3: Represent this as a visual table to confirm."
   ]
  },
  {
   "cell_type": "code",
   "execution_count": 4,
   "metadata": {},
   "outputs": [
    {
     "data": {
      "text/html": [
       "<table>\n",
       "<thead>\n",
       "<tr><th style=\"text-align: right;\">  difficulty</th></tr>\n",
       "</thead>\n",
       "<tbody>\n",
       "<tr><td style=\"text-align: right;\">           5</td></tr>\n",
       "<tr><td style=\"text-align: right;\">           3</td></tr>\n",
       "<tr><td style=\"text-align: right;\">           5</td></tr>\n",
       "<tr><td style=\"text-align: right;\">           6</td></tr>\n",
       "<tr><td style=\"text-align: right;\">           4</td></tr>\n",
       "<tr><td style=\"text-align: right;\">           5</td></tr>\n",
       "<tr><td style=\"text-align: right;\">           6</td></tr>\n",
       "<tr><td style=\"text-align: right;\">           5</td></tr>\n",
       "<tr><td style=\"text-align: right;\">           5</td></tr>\n",
       "<tr><td style=\"text-align: right;\">           7</td></tr>\n",
       "</tbody>\n",
       "</table>"
      ],
      "text/plain": [
       "'<table>\\n<thead>\\n<tr><th style=\"text-align: right;\">  difficulty</th></tr>\\n</thead>\\n<tbody>\\n<tr><td style=\"text-align: right;\">           5</td></tr>\\n<tr><td style=\"text-align: right;\">           3</td></tr>\\n<tr><td style=\"text-align: right;\">           5</td></tr>\\n<tr><td style=\"text-align: right;\">           6</td></tr>\\n<tr><td style=\"text-align: right;\">           4</td></tr>\\n<tr><td style=\"text-align: right;\">           5</td></tr>\\n<tr><td style=\"text-align: right;\">           6</td></tr>\\n<tr><td style=\"text-align: right;\">           5</td></tr>\\n<tr><td style=\"text-align: right;\">           5</td></tr>\\n<tr><td style=\"text-align: right;\">           7</td></tr>\\n</tbody>\\n</table>'"
      ]
     },
     "execution_count": 4,
     "metadata": {},
     "output_type": "execute_result"
    }
   ],
   "source": [
    "from tabulate import tabulate\n",
    "\n",
    "tabulate(nums, nums.keys(), \"html\")"
   ]
  },
  {
   "cell_type": "markdown",
   "metadata": {},
   "source": [
    "Step 4: Count number of each response."
   ]
  },
  {
   "cell_type": "code",
   "execution_count": 5,
   "metadata": {},
   "outputs": [
    {
     "data": {
      "text/plain": [
       "{'5': 158, '3': 54, '6': 112, '4': 120, '7': 86, '2': 32, '1': 11}"
      ]
     },
     "execution_count": 5,
     "metadata": {},
     "output_type": "execute_result"
    }
   ],
   "source": [
    "from data_utils import count\n",
    "\n",
    "counter = count(section['difficulty'])\n",
    "counter"
   ]
  },
  {
   "cell_type": "markdown",
   "metadata": {},
   "source": [
    "Step 5: Create a visual representation of this data for comparison."
   ]
  },
  {
   "cell_type": "code",
   "execution_count": 6,
   "metadata": {},
   "outputs": [
    {
     "data": {
      "image/png": "[encoded data removed]",
      "text/plain": [
       "<Figure size 864x360 with 1 Axes>"
      ]
     },
     "metadata": {
      "needs_background": "light"
     },
     "output_type": "display_data"
    }
   ],
   "source": [
    "from matplotlib import pyplot as plt\n",
    "\n",
    "fig, axes = plt.subplots(1, figsize=(12, 5), sharey=True)\n",
    "numerical: dict = {'1': 11, '2': 32, '3': 54, '4': 120, '5': 158, '6': 112, '7': 86}\n",
    "\n",
    "axes.set_title(\"Prevelance of Difficulty Ratings on a 1-7 Scale\")\n",
    "axes.bar(numerical.keys(), numerical.values())\n",
    "axes.tick_params(axis='x', labelrotation = 0)"
   ]
  },
  {
   "cell_type": "markdown",
   "metadata": {},
   "source": [
    "Step 6: Create and use helper function to form an average."
   ]
  },
  {
   "cell_type": "code",
   "execution_count": 7,
   "metadata": {},
   "outputs": [
    {
     "name": "stdout",
     "output_type": "stream",
     "text": [
      "The average student rated difficulty rating for Comp110 is a 4.853403141361256, on a 1 to 7 scale.\n"
     ]
    }
   ],
   "source": [
    "from data_utils import help_average\n",
    "class_average = help_average(counter)\n",
    "print(f\"The average student rated difficulty rating for Comp110 is a {class_average}, on a 1 to 7 scale.\")"
   ]
  },
  {
   "cell_type": "markdown",
   "metadata": {},
   "source": [
    "## Conclusion"
   ]
  },
  {
   "cell_type": "markdown",
   "metadata": {},
   "source": [
    "My hypothesis originally predicted that students who participated in the Comp 110 survey would have an average response between 5 and 6 for degree of difficulty, with 1 being \"very easy\", and 7 being \"very difficult\". To test this, I converted the csv data into column-oriented data that could be passed through code. I then selected the \"difficulty\" row, created a test visual table, and then counted the number of times a value was present in the entire column. This formed a new dict that had the str rating bound to the int representing the number of times that value was seen. I then created a visual representation of this data. Finally, I created a helper function that used the keys as ints, multiplied them by their values, and divided them by the total number of responses to deliver an average. This average ended up being around 4.85. This was less, but still very close, to my hypothesis of a 5-6 average. I was also able to identify 5 as the mode through the dictionary and graph that I created. The graph was particularly interesting, as a it showed a left-skewed bell curve, with most responses being in the 4-7 range. Additionally, I was surprised at the low amount of 1 and 2 responses. "
   ]
  }
 ],
 "metadata": {
  "interpreter": {
   "hash": "aee8b7b246df8f9039afb4144a1f6fd8d2ca17a180786b69acc140d282b71a49"
  },
  "kernelspec": {
   "display_name": "Python 3.9.6 64-bit",
   "language": "python",
   "name": "python3"
  },
  "language_info": {
   "codemirror_mode": {
    "name": "ipython",
    "version": 3
   },
   "file_extension": ".py",
   "mimetype": "text/x-python",
   "name": "python",
   "nbconvert_exporter": "python",
   "pygments_lexer": "ipython3",
   "version": "3.9.6"
  },
  "orig_nbformat": 4
 },
 "nbformat": 4,
 "nbformat_minor": 2
}
